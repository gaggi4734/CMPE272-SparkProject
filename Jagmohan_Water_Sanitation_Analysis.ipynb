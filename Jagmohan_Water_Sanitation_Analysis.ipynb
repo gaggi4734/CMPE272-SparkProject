{
 "cells": [
  {
   "cell_type": "code",
   "execution_count": 152,
   "metadata": {
    "collapsed": true
   },
   "outputs": [],
   "source": [
    "from pyspark.sql import SQLContext, Row\n",
    "sqlContext = SQLContext(sc)"
   ]
  },
  {
   "cell_type": "code",
   "execution_count": 153,
   "metadata": {
    "collapsed": true
   },
   "outputs": [],
   "source": [
    "lines = sc.textFile(\"swift://notebooks.spark/Sanitation-Database-June.csv\")\n",
    "parts = lines.map(lambda l: l.split(\",\"))\n",
    "countries = parts.map(lambda p: Row(country=p[1], year=p[2] , improved=int(p[3])))\n",
    "worst= countries.toDF()"
   ]
  },
  {
   "cell_type": "code",
   "execution_count": 154,
   "metadata": {
    "collapsed": false
   },
   "outputs": [
    {
     "name": "stdout",
     "output_type": "stream",
     "text": [
      "+-------------------+--------+----+\n",
      "|            country|improved|year|\n",
      "+-------------------+--------+----+\n",
      "|        Afghanistan|      32|2015|\n",
      "|            Albania|      93|2015|\n",
      "|            Algeria|      88|2015|\n",
      "|     American Samoa|      62|2015|\n",
      "|            Andorra|     100|2015|\n",
      "|             Angola|      52|2015|\n",
      "|           Anguilla|      98|2015|\n",
      "|Antigua and Barbuda|       0|2015|\n",
      "|          Argentina|      96|2015|\n",
      "|            Armenia|      89|2015|\n",
      "|              Aruba|      98|2015|\n",
      "|          Australia|     100|2015|\n",
      "|            Austria|     100|2015|\n",
      "|         Azerbaijan|      89|2015|\n",
      "|            Bahamas|      92|2015|\n",
      "|            Bahrain|      99|2015|\n",
      "|         Bangladesh|      61|2015|\n",
      "|           Barbados|      96|2015|\n",
      "|            Belarus|      94|2015|\n",
      "|            Belgium|      99|2015|\n",
      "+-------------------+--------+----+\n",
      "\n"
     ]
    }
   ],
   "source": [
    "w= worst.filter(\"year=2015\")\n",
    "w.show()"
   ]
  },
  {
   "cell_type": "code",
   "execution_count": 156,
   "metadata": {
    "collapsed": true
   },
   "outputs": [],
   "source": [
    "result= sqlContext.sql(\"select country from w s join (select MIN(improved) as improved from w) a on s.improved = a.improved \")"
   ]
  },
  {
   "cell_type": "code",
   "execution_count": 157,
   "metadata": {
    "collapsed": false
   },
   "outputs": [
    {
     "name": "stdout",
     "output_type": "stream",
     "text": [
      "+--------------------+\n",
      "|             country|\n",
      "+--------------------+\n",
      "| Antigua and Barbuda|\n",
      "|             Bermuda|\n",
      "|   Brunei Darussalam|\n",
      "|            Dominica|\n",
      "|       French Guiana|\n",
      "|          Guadeloupe|\n",
      "|          Martinique|\n",
      "|          Montserrat|\n",
      "|         New Zealand|\n",
      "|Saint Kitts and N...|\n",
      "|Saint Vincent and...|\n",
      "|          San Marino|\n",
      "|             Somalia|\n",
      "|               Sudan|\n",
      "|        Turkmenistan|\n",
      "|Turks and Caicos ...|\n",
      "|              Tuvalu|\n",
      "|               Yemen|\n",
      "+--------------------+\n",
      "\n"
     ]
    }
   ],
   "source": [
    "result.show()"
   ]
  },
  {
   "cell_type": "code",
   "execution_count": 158,
   "metadata": {
    "collapsed": false
   },
   "outputs": [
    {
     "name": "stdout",
     "output_type": "stream",
     "text": [
      "Country: Antigua and Barbuda\n",
      "Country: Bermuda\n",
      "Country: Brunei Darussalam\n",
      "Country: Dominica\n",
      "Country: French Guiana\n",
      "Country: Guadeloupe\n",
      "Country: Martinique\n",
      "Country: Montserrat\n",
      "Country: New Zealand\n",
      "Country: Saint Kitts and Nevis\n",
      "Country: Saint Vincent and the Grenadines\n",
      "Country: San Marino\n",
      "Country: Somalia\n",
      "Country: Sudan\n",
      "Country: Turkmenistan\n",
      "Country: Turks and Caicos Islands\n",
      "Country: Tuvalu\n",
      "Country: Yemen\n"
     ]
    }
   ],
   "source": [
    "j= result.map(lambda p: \"Country: \"+p.country)\n",
    "for i in j.collect():\n",
    "    print i"
   ]
  },
  {
   "cell_type": "code",
   "execution_count": 161,
   "metadata": {
    "collapsed": false
   },
   "outputs": [
    {
     "name": "stdout",
     "output_type": "stream",
     "text": [
      "+-----------------+\n",
      "|          country|\n",
      "+-----------------+\n",
      "|          Andorra|\n",
      "|        Australia|\n",
      "|          Austria|\n",
      "|           Canada|\n",
      "|           Cyprus|\n",
      "|          Denmark|\n",
      "|        Greenland|\n",
      "|           Israel|\n",
      "|            Italy|\n",
      "|            Japan|\n",
      "|           Kuwait|\n",
      "|            Malta|\n",
      "|           Monaco|\n",
      "|    New Caledonia|\n",
      "|             Niue|\n",
      "|            Palau|\n",
      "|         Portugal|\n",
      "|Republic of Korea|\n",
      "|     Saudi Arabia|\n",
      "|        Singapore|\n",
      "+-----------------+\n",
      "\n"
     ]
    }
   ],
   "source": [
    " sqlContext.sql(\"select country from w s join (select MAX(improved) as improved from w) a on s.improved = a.improved \").show()"
   ]
  },
  {
   "cell_type": "code",
   "execution_count": null,
   "metadata": {
    "collapsed": true
   },
   "outputs": [],
   "source": []
  }
 ],
 "metadata": {
  "kernelspec": {
   "display_name": "Python 2",
   "language": "python",
   "name": "python2"
  },
  "language_info": {
   "codemirror_mode": {
    "name": "ipython",
    "version": 2
   },
   "file_extension": ".py",
   "mimetype": "text/x-python",
   "name": "python",
   "nbconvert_exporter": "python",
   "pygments_lexer": "ipython2",
   "version": "2.7.9"
  }
 },
 "nbformat": 4,
 "nbformat_minor": 0
}
